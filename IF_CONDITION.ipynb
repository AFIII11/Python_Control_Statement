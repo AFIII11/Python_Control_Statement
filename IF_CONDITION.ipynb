{
  "nbformat": 4,
  "nbformat_minor": 0,
  "metadata": {
    "colab": {
      "provenance": [],
      "authorship_tag": "ABX9TyPTUyfTgBN1liMmNBvb3LEs",
      "include_colab_link": true
    },
    "kernelspec": {
      "name": "python3",
      "display_name": "Python 3"
    },
    "language_info": {
      "name": "python"
    }
  },
  "cells": [
    {
      "cell_type": "markdown",
      "metadata": {
        "id": "view-in-github",
        "colab_type": "text"
      },
      "source": [
        "<a href=\"https://colab.research.google.com/github/AFIII11/Python_Control_Statement/blob/main/IF_CONDITION.ipynb\" target=\"_parent\"><img src=\"https://colab.research.google.com/assets/colab-badge.svg\" alt=\"Open In Colab\"/></a>"
      ]
    },
    {
      "cell_type": "code",
      "execution_count": null,
      "metadata": {
        "id": "-IJL1Q_TJJUD"
      },
      "outputs": [],
      "source": [
        "a=20"
      ]
    },
    {
      "cell_type": "code",
      "source": [
        "b=30"
      ],
      "metadata": {
        "id": "6t5dmyLjJjgt"
      },
      "execution_count": null,
      "outputs": []
    },
    {
      "cell_type": "code",
      "source": [
        "if(a>=b):\n",
        "  print(\"true\")\n",
        "else:\n",
        "  print(\"false\")"
      ],
      "metadata": {
        "colab": {
          "base_uri": "https://localhost:8080/"
        },
        "id": "0eDoNjtxJlcZ",
        "outputId": "89f388a8-4338-483f-f323-7015dbbbb810"
      },
      "execution_count": null,
      "outputs": [
        {
          "output_type": "stream",
          "name": "stdout",
          "text": [
            "false\n"
          ]
        }
      ]
    },
    {
      "cell_type": "code",
      "source": [
        "a=int(input(\"enter a number\"))\n",
        "if(a>0):\n",
        " print(\"positive number\")\n",
        "else:\n",
        " print(\"negative numvber\")"
      ],
      "metadata": {
        "colab": {
          "base_uri": "https://localhost:8080/"
        },
        "id": "LjZ27EMMKp0l",
        "outputId": "593818de-7db5-419d-aa50-222eff05333b"
      },
      "execution_count": null,
      "outputs": [
        {
          "output_type": "stream",
          "name": "stdout",
          "text": [
            "enter a number-1\n",
            "negative numvber\n"
          ]
        }
      ]
    },
    {
      "cell_type": "code",
      "source": [
        "b=a=int(input(\"enter a number\"))\n",
        "if(a>0):\n",
        " print(\"positive number\")\n",
        "else:\n",
        " print(\"negative numvber\")"
      ],
      "metadata": {
        "colab": {
          "base_uri": "https://localhost:8080/"
        },
        "id": "cuTQC6azLfeT",
        "outputId": "1611489e-7ae3-4936-9a1b-84a6d5755dcf"
      },
      "execution_count": null,
      "outputs": [
        {
          "output_type": "stream",
          "name": "stdout",
          "text": [
            "enter a number1\n",
            "positive number\n"
          ]
        }
      ]
    },
    {
      "cell_type": "code",
      "source": [
        "a=int(input(\"enter a number\"))\n",
        "if(a%2==0):\n",
        " print(\"even number\")\n",
        "else:\n",
        " print(\"odd number\")"
      ],
      "metadata": {
        "colab": {
          "base_uri": "https://localhost:8080/"
        },
        "id": "3WTcwT16MDVu",
        "outputId": "47ba2269-ccd9-49d3-aac4-f48b1c2e0b6b"
      },
      "execution_count": null,
      "outputs": [
        {
          "output_type": "stream",
          "name": "stdout",
          "text": [
            "enter a number1\n",
            "odd number\n"
          ]
        }
      ]
    },
    {
      "cell_type": "code",
      "source": [
        "a=int(input(\"enter a number\"))\n",
        "if(a%2==0):\n",
        " print(\"even number\")\n",
        "else:\n",
        " print(\"odd number\")"
      ],
      "metadata": {
        "colab": {
          "base_uri": "https://localhost:8080/"
        },
        "id": "rZ0FaARRMgNc",
        "outputId": "8dcaf246-5c4d-445d-d255-dc039edba394"
      },
      "execution_count": null,
      "outputs": [
        {
          "output_type": "stream",
          "name": "stdout",
          "text": [
            "enter a number2\n",
            "even number\n"
          ]
        }
      ]
    },
    {
      "cell_type": "code",
      "source": [
        "a=int(input(\"enter the bill amount\"))\n",
        "if(a>=2000):\n",
        " offer=a/10\n",
        " bill=a-offer\n",
        " print(\"your offer is:\",offer)\n",
        " print(\"payable amount is:\",bill)\n",
        "else:\n",
        "  print(\"you have no offer\")\n"
      ],
      "metadata": {
        "colab": {
          "base_uri": "https://localhost:8080/"
        },
        "id": "NeZZ2_1mPIAE",
        "outputId": "893bb917-34cf-49e2-9e57-d6f867170dd9"
      },
      "execution_count": null,
      "outputs": [
        {
          "output_type": "stream",
          "name": "stdout",
          "text": [
            "enter the bill amount2200\n",
            "your offer is: 220.0\n",
            "payable amount is: 1980.0\n"
          ]
        }
      ]
    },
    {
      "cell_type": "code",
      "source": [
        "a=int(input(\"enter the bill amount\"))\n",
        "if(a>=2000):\n",
        " offer=a/10\n",
        " bill=a-offer\n",
        " print(\"your offer is:\",offer)\n",
        " print(\"payable amount is:\",bill)\n",
        "else:\n",
        "  print(\"you have no offer\")"
      ],
      "metadata": {
        "colab": {
          "base_uri": "https://localhost:8080/"
        },
        "id": "C6A4WJI9Pcct",
        "outputId": "5942675e-4ff9-4d7f-b210-17e5511e5e7d"
      },
      "execution_count": null,
      "outputs": [
        {
          "output_type": "stream",
          "name": "stdout",
          "text": [
            "enter the bill amount500\n",
            "you have no offer\n"
          ]
        }
      ]
    },
    {
      "cell_type": "code",
      "source": [
        "a=int(input(\"enter a number\"))\n",
        "if(a>0):\n",
        "  print(\"number is positive\")\n",
        "elif(a<0):\n",
        "  print(\"number is negative\")\n",
        "else:\n",
        "  print(\"number is 0\")\n",
        "\n"
      ],
      "metadata": {
        "colab": {
          "base_uri": "https://localhost:8080/"
        },
        "id": "rNrITOjuR6Vp",
        "outputId": "be51bb9b-3b30-43bc-e5dd-d9eed4cd835a"
      },
      "execution_count": null,
      "outputs": [
        {
          "output_type": "stream",
          "name": "stdout",
          "text": [
            "enter a number2\n",
            "number is positive\n"
          ]
        }
      ]
    },
    {
      "cell_type": "code",
      "source": [
        "a=int(input(\"enter a number\"))\n",
        "b=int(input(\"enter a number\"))\n",
        "c=(input(\"enter a operator\"))\n",
        "if(c==\"+\"):\n",
        "  print(\"answer is:\" ,a+b)\n",
        "elif(c==\"-\"):\n",
        "  print(\"answer is:\" ,a-b)\n",
        "elif(c==\"*\"):\n",
        "  print(\"answer is:\" ,a*b)\n",
        "elif(c==\"/\"):\n",
        "  print(\"answer is:\" ,a/b)\n",
        "else:\n",
        "  print(\"wrong\")\n"
      ],
      "metadata": {
        "colab": {
          "base_uri": "https://localhost:8080/"
        },
        "id": "wx2q9Cw8Tqdf",
        "outputId": "3e5c47b0-ef13-44c2-ab95-7fbcdc54806b"
      },
      "execution_count": null,
      "outputs": [
        {
          "output_type": "stream",
          "name": "stdout",
          "text": [
            "enter a number2\n",
            "enter a number2\n",
            "enter a operator+\n",
            "answer is: 4\n"
          ]
        }
      ]
    },
    {
      "cell_type": "code",
      "source": [
        "find the given year is leap year or not"
      ],
      "metadata": {
        "id": "jCoARgIjs5j7"
      },
      "execution_count": null,
      "outputs": []
    },
    {
      "cell_type": "code",
      "source": [
        "a=int(input(\"enter a year:\"))\n",
        "if(a%4==0):\n",
        "  print(\"its a leap year\")\n",
        "else:\n",
        "  print(\"its not a leap year\")"
      ],
      "metadata": {
        "colab": {
          "base_uri": "https://localhost:8080/"
        },
        "id": "FC7GHKlutA7p",
        "outputId": "e21bc25b-5947-4562-8738-993858a715b9"
      },
      "execution_count": null,
      "outputs": [
        {
          "output_type": "stream",
          "name": "stdout",
          "text": [
            "enter a year:2024\n",
            "its a leap year\n"
          ]
        }
      ]
    },
    {
      "cell_type": "code",
      "source": [
        "s1=int(input(\"enter the mark of first subject\"))\n",
        "s2=int(input(\"enter the mark of second subject\"))\n",
        "s3=int(input(\"enter the mark of third subject\"))\n",
        "s4=int(input(\"enter the mark of fourth subject\"))\n",
        "s5=int(input(\"enter the mark of fifth subject\"))\n",
        "avg=(s1+s2+s3+s4+s5)/5\n",
        "if(avg>=90 and avg<=100):\n",
        "  print(\"A+\")\n",
        "elif(avg>=80):\n",
        "  print(\"A\")\n",
        "elif(avg>=70):\n",
        "  print(\"B+\")\n",
        "elif(avg>=60):\n",
        "  print(\"B\")\n",
        "elif(avg>=50):\n",
        "  print(\"c+\")\n",
        "elif(avg>=40):\n",
        "  print(\"c\")\n",
        "elif(avg>=30):\n",
        "  print(\"Failed\")"
      ],
      "metadata": {
        "colab": {
          "base_uri": "https://localhost:8080/"
        },
        "id": "I_-DgBtjvULW",
        "outputId": "596ee08d-6178-4348-d89f-db409e4882d1"
      },
      "execution_count": null,
      "outputs": [
        {
          "output_type": "stream",
          "name": "stdout",
          "text": [
            "enter the mark of first subject70\n",
            "enter the mark of second subject60\n",
            "enter the mark of third subject80\n",
            "enter the mark of fourth subject40\n",
            "enter the mark of fifth subject50\n",
            "B\n"
          ]
        }
      ]
    },
    {
      "cell_type": "code",
      "source": [
        "s1=int(input(\"enter the mark of first subject\"))\n",
        "s2=int(input(\"enter the mark of second subject\"))\n",
        "s3=int(input(\"enter the mark of third subject\"))\n",
        "s4=int(input(\"enter the mark of fourth subject\"))\n",
        "s5=int(input(\"enter the mark of fifth subject\"))\n",
        "avg=(s1+s2+s3+s4+s5)/5\n",
        "if(avg>=90 and avg<=100):\n",
        "  print(\"A+\")\n",
        "elif(avg>=80):\n",
        "  print(\"A\")\n",
        "elif(avg>=70):\n",
        "  print(\"B+\")\n",
        "elif(avg>=60):\n",
        "  print(\"B\")\n",
        "elif(avg>=50):\n",
        "  print(\"c+\")\n",
        "elif(avg>=40):\n",
        "  print(\"c\")\n",
        "else:\n",
        "  print(\"Failed\")"
      ],
      "metadata": {
        "colab": {
          "base_uri": "https://localhost:8080/"
        },
        "id": "AD7SvwAmxHVb",
        "outputId": "05cd68b2-48d6-4d21-e668-8238e372509c"
      },
      "execution_count": null,
      "outputs": [
        {
          "output_type": "stream",
          "name": "stdout",
          "text": [
            "enter the mark of first subject10\n",
            "enter the mark of second subject15\n",
            "enter the mark of third subject20\n",
            "enter the mark of fourth subject25\n",
            "enter the mark of fifth subject30\n",
            "Failed\n"
          ]
        }
      ]
    },
    {
      "cell_type": "code",
      "source": [
        "a=int(input(\"enter a number:\"))\n",
        "sum=0\n",
        "temp=a\n",
        "while(temp>0):\n",
        "  b=temp%10\n",
        "  sum+=b**3\n",
        "  temp//=10\n",
        "if a==sum:\n",
        "  print(a,\"is an amstrong number\")\n",
        "else:\n",
        "  print(a,\"is not an amstrong number\")\n",
        "\n"
      ],
      "metadata": {
        "colab": {
          "base_uri": "https://localhost:8080/"
        },
        "id": "nPBvzY1v8kns",
        "outputId": "ff0c94ff-0323-46cd-9c70-dbf0b32b61a4"
      },
      "execution_count": null,
      "outputs": [
        {
          "output_type": "stream",
          "name": "stdout",
          "text": [
            "enter a number:153\n",
            "153 is an amstrong number\n"
          ]
        }
      ]
    },
    {
      "cell_type": "code",
      "source": [
        "a=int(input(\"enter a number:\"))\n",
        "c=str(a)\n",
        "d=len(c)\n",
        "sum=0\n",
        "temp=a\n",
        "for i in range(0,d):\n",
        "  b=temp%10\n",
        "  sum+=b**d\n",
        "  temp//=10\n",
        "if a==sum:\n",
        "  print(a,\"is an amstrong number\")\n",
        "else:\n",
        "  print(a,\"is not an amstrong number\")"
      ],
      "metadata": {
        "colab": {
          "base_uri": "https://localhost:8080/"
        },
        "id": "ff8326syF7-1",
        "outputId": "57833a97-1729-4909-ed79-6b585242419c"
      },
      "execution_count": null,
      "outputs": [
        {
          "output_type": "stream",
          "name": "stdout",
          "text": [
            "enter a number:1634\n",
            "1634 is an amstrong number\n"
          ]
        }
      ]
    },
    {
      "cell_type": "code",
      "source": [],
      "metadata": {
        "id": "avA9RYLvJWnV"
      },
      "execution_count": null,
      "outputs": []
    }
  ]
}