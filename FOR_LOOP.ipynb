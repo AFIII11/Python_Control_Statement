{
  "nbformat": 4,
  "nbformat_minor": 0,
  "metadata": {
    "colab": {
      "provenance": [],
      "authorship_tag": "ABX9TyN/G0znOmO7mhCSbGyxN1c0",
      "include_colab_link": true
    },
    "kernelspec": {
      "name": "python3",
      "display_name": "Python 3"
    },
    "language_info": {
      "name": "python"
    }
  },
  "cells": [
    {
      "cell_type": "markdown",
      "metadata": {
        "id": "view-in-github",
        "colab_type": "text"
      },
      "source": [
        "<a href=\"https://colab.research.google.com/github/AFIII11/Python_Control_Statement/blob/main/FOR_LOOP.ipynb\" target=\"_parent\"><img src=\"https://colab.research.google.com/assets/colab-badge.svg\" alt=\"Open In Colab\"/></a>"
      ]
    },
    {
      "cell_type": "code",
      "execution_count": null,
      "metadata": {
        "colab": {
          "base_uri": "https://localhost:8080/"
        },
        "id": "FlZXybKn1BiA",
        "outputId": "c2e2a603-59fd-4a48-f70a-7f6875fe03b4"
      },
      "outputs": [
        {
          "output_type": "stream",
          "name": "stdout",
          "text": [
            "0\n",
            "1\n",
            "2\n",
            "3\n",
            "4\n",
            "5\n",
            "6\n",
            "7\n",
            "8\n",
            "9\n"
          ]
        }
      ],
      "source": [
        "for i in range(0,10):\n",
        "  print(i)"
      ]
    },
    {
      "cell_type": "code",
      "source": [
        "for i in range(0,11):\n",
        "  print(i)"
      ],
      "metadata": {
        "colab": {
          "base_uri": "https://localhost:8080/"
        },
        "id": "QRYhPrfu1WA1",
        "outputId": "04616def-e47e-498d-84a0-ab032329a641"
      },
      "execution_count": null,
      "outputs": [
        {
          "output_type": "stream",
          "name": "stdout",
          "text": [
            "0\n",
            "1\n",
            "2\n",
            "3\n",
            "4\n",
            "5\n",
            "6\n",
            "7\n",
            "8\n",
            "9\n",
            "10\n"
          ]
        }
      ]
    },
    {
      "cell_type": "code",
      "source": [
        "sum=0#finding the sum of n elements\n",
        "for i in range(0,10):\n",
        "  print(i)\n",
        "  sum=sum+i\n",
        "print(\"sum is\",sum)\n"
      ],
      "metadata": {
        "colab": {
          "base_uri": "https://localhost:8080/"
        },
        "id": "6WJBCWov1_hc",
        "outputId": "3ea1549d-c9a0-491b-df49-42c09785d48e"
      },
      "execution_count": null,
      "outputs": [
        {
          "output_type": "stream",
          "name": "stdout",
          "text": [
            "0\n",
            "1\n",
            "2\n",
            "3\n",
            "4\n",
            "5\n",
            "6\n",
            "7\n",
            "8\n",
            "9\n",
            "sum is 45\n"
          ]
        }
      ]
    },
    {
      "cell_type": "code",
      "source": [
        "fact=1\n",
        "\n",
        "n=int(input(\"enter your limit\"))# factorial\n",
        "for i in range(1,n+1):\n",
        "  print(i)\n",
        "  fact=fact*i\n",
        "print(\"factorial of a given number is \",fact)"
      ],
      "metadata": {
        "colab": {
          "base_uri": "https://localhost:8080/"
        },
        "id": "zzgLw6xJ3nEg",
        "outputId": "28a55de1-a4a3-42a3-b413-adb61cefb4e3"
      },
      "execution_count": null,
      "outputs": [
        {
          "output_type": "stream",
          "name": "stdout",
          "text": [
            "enter your limit4\n",
            "1\n",
            "2\n",
            "3\n",
            "4\n",
            "factorial of a given number is  24\n"
          ]
        }
      ]
    },
    {
      "cell_type": "code",
      "source": [
        "n=int(input(\"enter your limit\"))# finding even number\n",
        "for i in range(1,n+1):\n",
        "  if(i%2==0):\n",
        "    print(i)\n"
      ],
      "metadata": {
        "colab": {
          "base_uri": "https://localhost:8080/"
        },
        "id": "2jaD0_iO_neJ",
        "outputId": "d1dc7aee-03f2-402a-b8c5-c6d8adfbf355"
      },
      "execution_count": null,
      "outputs": [
        {
          "output_type": "stream",
          "name": "stdout",
          "text": [
            "enter your limit10\n",
            "2\n",
            "4\n",
            "6\n",
            "8\n",
            "10\n"
          ]
        }
      ]
    },
    {
      "cell_type": "code",
      "source": [
        "n=int(input(\"enter your limit\"))# finding odd number\n",
        "for i in range(1,n+1):\n",
        "  if(i%2!=0):\n",
        "    print(i)"
      ],
      "metadata": {
        "colab": {
          "base_uri": "https://localhost:8080/"
        },
        "id": "C_xjP7SgAP-X",
        "outputId": "a38354f2-0851-498e-d2ad-b5467baa8c44"
      },
      "execution_count": null,
      "outputs": [
        {
          "output_type": "stream",
          "name": "stdout",
          "text": [
            "enter your limit6\n",
            "1\n",
            "3\n",
            "5\n"
          ]
        }
      ]
    },
    {
      "cell_type": "code",
      "source": [
        "n=int(input(\"enter a number\"))\n",
        "if(n%5==0):\n",
        "  print(\"ys\")\n",
        "else:\n",
        "  print(\"no\")"
      ],
      "metadata": {
        "colab": {
          "base_uri": "https://localhost:8080/"
        },
        "id": "8h7lpgJGEQkh",
        "outputId": "a830ceea-2220-4d13-be31-af2b65ebe0bc"
      },
      "execution_count": null,
      "outputs": [
        {
          "output_type": "stream",
          "name": "stdout",
          "text": [
            "enter a number4\n",
            "no\n"
          ]
        }
      ]
    },
    {
      "cell_type": "code",
      "source": [
        "sum=0\n",
        "for i in range(1,101):\n",
        "  if(i%9==0):\n",
        "    print(i)\n",
        "    sum=sum+i\n",
        "print(\"sum is \",sum)"
      ],
      "metadata": {
        "colab": {
          "base_uri": "https://localhost:8080/"
        },
        "id": "yzsnj7kIFLDG",
        "outputId": "5b813f00-3818-46b9-cddb-3230b0d4ae5a"
      },
      "execution_count": null,
      "outputs": [
        {
          "output_type": "stream",
          "name": "stdout",
          "text": [
            "9\n",
            "18\n",
            "27\n",
            "36\n",
            "45\n",
            "54\n",
            "63\n",
            "72\n",
            "81\n",
            "90\n",
            "99\n",
            "sum is  594\n"
          ]
        }
      ]
    },
    {
      "cell_type": "code",
      "source": [
        "li=[1,2,3,4,5]\n",
        "for i in li:\n",
        "  print(i)"
      ],
      "metadata": {
        "colab": {
          "base_uri": "https://localhost:8080/"
        },
        "id": "6fcE-RWOGM9X",
        "outputId": "ea533cbc-3d1d-47c3-fc59-58596004c731"
      },
      "execution_count": null,
      "outputs": [
        {
          "output_type": "stream",
          "name": "stdout",
          "text": [
            "1\n",
            "2\n",
            "3\n",
            "4\n",
            "5\n"
          ]
        }
      ]
    },
    {
      "cell_type": "code",
      "source": [
        "n=int(input(\"enter your value\"))\n",
        "m=int(input(\"enter the limit\"))\n",
        "for i in range(1,m+1):\n",
        "  s=n*i\n",
        "  print(s)"
      ],
      "metadata": {
        "colab": {
          "base_uri": "https://localhost:8080/"
        },
        "id": "2mQlKG8xKJ3K",
        "outputId": "691c5001-2279-4f8d-da4d-ed7c92483def"
      },
      "execution_count": null,
      "outputs": [
        {
          "output_type": "stream",
          "name": "stdout",
          "text": [
            "enter your value5\n",
            "enter the limit10\n",
            "5\n",
            "10\n",
            "15\n",
            "20\n",
            "25\n",
            "30\n",
            "35\n",
            "40\n",
            "45\n",
            "50\n"
          ]
        }
      ]
    },
    {
      "cell_type": "code",
      "source": [
        "a=0\n",
        "b=1\n",
        "n=int(input(\"enter the limit\"))#finding fibnocci\n",
        "print(\"fibnocci series is\")\n",
        "print(a)\n",
        "print(b)\n",
        "for i in range(1,n-1):\n",
        "  c=a+b\n",
        "  print(c)\n",
        "  a=b\n",
        "  b=c\n",
        "\n",
        "\n",
        "\n"
      ],
      "metadata": {
        "colab": {
          "base_uri": "https://localhost:8080/"
        },
        "id": "hR2hPYeHLefd",
        "outputId": "3d0fbe9b-5ca0-4e8f-d048-bce2001c3a54"
      },
      "execution_count": null,
      "outputs": [
        {
          "output_type": "stream",
          "name": "stdout",
          "text": [
            "enter the limit5\n",
            "fibnocci series is\n",
            "0\n",
            "1\n",
            "1\n",
            "2\n",
            "3\n"
          ]
        }
      ]
    },
    {
      "cell_type": "code",
      "source": [
        "for i in range(10,0,-1):#reverse\n",
        "  print(i)"
      ],
      "metadata": {
        "colab": {
          "base_uri": "https://localhost:8080/"
        },
        "id": "BfAaSBWDRMhF",
        "outputId": "52a47f25-4dc7-4eb9-91e5-2446b3f8dbce"
      },
      "execution_count": null,
      "outputs": [
        {
          "output_type": "stream",
          "name": "stdout",
          "text": [
            "10\n",
            "9\n",
            "8\n",
            "7\n",
            "6\n",
            "5\n",
            "4\n",
            "3\n",
            "2\n",
            "1\n"
          ]
        }
      ]
    },
    {
      "cell_type": "code",
      "source": [
        "for i in  range(1,10,2):\n",
        "  print(i)"
      ],
      "metadata": {
        "colab": {
          "base_uri": "https://localhost:8080/"
        },
        "id": "p56NOCtFU4nH",
        "outputId": "dd11fd61-4af1-4263-e528-b63a8f2dbcef"
      },
      "execution_count": null,
      "outputs": [
        {
          "output_type": "stream",
          "name": "stdout",
          "text": [
            "1\n",
            "3\n",
            "5\n",
            "7\n",
            "9\n"
          ]
        }
      ]
    },
    {
      "cell_type": "code",
      "source": [
        "li=[]\n",
        "l=int(input(\"enter the limit:\"))\n",
        "for i in range(1,l+1):\n",
        "  n=int(input(\"enter the element:\"))\n",
        "  li.append(n)\n",
        "print(li)\n",
        "sum=0\n",
        "for i in li:\n",
        "  sum=sum+i\n",
        "print(\"sum:\",sum)\n",
        "\n"
      ],
      "metadata": {
        "colab": {
          "base_uri": "https://localhost:8080/"
        },
        "id": "dG5m1FaUa29x",
        "outputId": "2ed7337a-602d-4d9e-9de8-8a7270f311b1"
      },
      "execution_count": null,
      "outputs": [
        {
          "output_type": "stream",
          "name": "stdout",
          "text": [
            "enter the limit:7\n",
            "enter the element:1\n",
            "enter the element:2\n",
            "enter the element:3\n",
            "enter the element:4\n",
            "enter the element:5\n",
            "enter the element:6\n",
            "enter the element:7\n",
            "[1, 2, 3, 4, 5, 6, 7]\n",
            "sum: 28\n"
          ]
        }
      ]
    },
    {
      "cell_type": "code",
      "source": [
        "a=int(input(\"enter a number\"))\n",
        "c=str(a)\n",
        "d=len(c)\n",
        "sum=0\n",
        "temp=a\n",
        "for i in range(0,d):\n",
        "  b=temp%10\n",
        "  sum+=b**d\n",
        "  temp//=10\n",
        "if a == sum:\n",
        "   print(a,\"is an Armstrong number\")\n",
        "else:\n",
        "   print(a,\"is not an Armstrong number\")"
      ],
      "metadata": {
        "id": "ym3-uCPydYfx",
        "colab": {
          "base_uri": "https://localhost:8080/"
        },
        "outputId": "08b8ab98-1f77-4633-c33f-dc1d4385e689"
      },
      "execution_count": null,
      "outputs": [
        {
          "output_type": "stream",
          "name": "stdout",
          "text": [
            "enter a number153\n",
            "153 is an Armstrong number\n"
          ]
        }
      ]
    },
    {
      "cell_type": "code",
      "source": [],
      "metadata": {
        "id": "IDZTZwExZtTo"
      },
      "execution_count": null,
      "outputs": []
    }
  ]
}